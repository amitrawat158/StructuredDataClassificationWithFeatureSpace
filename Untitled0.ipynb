{
  "nbformat": 4,
  "nbformat_minor": 0,
  "metadata": {
    "colab": {
      "provenance": [],
      "authorship_tag": "ABX9TyMXNIxVqN0T1gQbyR8w7CIG",
      "include_colab_link": true
    },
    "kernelspec": {
      "name": "python3",
      "display_name": "Python 3"
    },
    "language_info": {
      "name": "python"
    }
  },
  "cells": [
    {
      "cell_type": "markdown",
      "metadata": {
        "id": "view-in-github",
        "colab_type": "text"
      },
      "source": [
        "<a href=\"https://colab.research.google.com/github/amitrawat158/StructuredDataClassificationWithFeatureSpace/blob/main/Untitled0.ipynb\" target=\"_parent\"><img src=\"https://colab.research.google.com/assets/colab-badge.svg\" alt=\"Open In Colab\"/></a>"
      ]
    },
    {
      "cell_type": "code",
      "execution_count": null,
      "metadata": {
        "colab": {
          "base_uri": "https://localhost:8080/"
        },
        "id": "4ui2XFNZseQO",
        "outputId": "500fbb5f-511f-4aa3-92a0-45d20f077268"
      },
      "outputs": [
        {
          "output_type": "stream",
          "name": "stdout",
          "text": [
            "Requirement already satisfied: tensorflow in /usr/local/lib/python3.10/dist-packages (2.13.0)\n",
            "Requirement already satisfied: absl-py>=1.0.0 in /usr/local/lib/python3.10/dist-packages (from tensorflow) (1.4.0)\n",
            "Requirement already satisfied: astunparse>=1.6.0 in /usr/local/lib/python3.10/dist-packages (from tensorflow) (1.6.3)\n",
            "Requirement already satisfied: flatbuffers>=23.1.21 in /usr/local/lib/python3.10/dist-packages (from tensorflow) (23.5.26)\n",
            "Requirement already satisfied: gast<=0.4.0,>=0.2.1 in /usr/local/lib/python3.10/dist-packages (from tensorflow) (0.4.0)\n",
            "Requirement already satisfied: google-pasta>=0.1.1 in /usr/local/lib/python3.10/dist-packages (from tensorflow) (0.2.0)\n",
            "Requirement already satisfied: grpcio<2.0,>=1.24.3 in /usr/local/lib/python3.10/dist-packages (from tensorflow) (1.59.0)\n",
            "Requirement already satisfied: h5py>=2.9.0 in /usr/local/lib/python3.10/dist-packages (from tensorflow) (3.9.0)\n",
            "Requirement already satisfied: keras<2.14,>=2.13.1 in /usr/local/lib/python3.10/dist-packages (from tensorflow) (2.13.1)\n",
            "Requirement already satisfied: libclang>=13.0.0 in /usr/local/lib/python3.10/dist-packages (from tensorflow) (16.0.6)\n",
            "Requirement already satisfied: numpy<=1.24.3,>=1.22 in /usr/local/lib/python3.10/dist-packages (from tensorflow) (1.23.5)\n",
            "Requirement already satisfied: opt-einsum>=2.3.2 in /usr/local/lib/python3.10/dist-packages (from tensorflow) (3.3.0)\n",
            "Requirement already satisfied: packaging in /usr/local/lib/python3.10/dist-packages (from tensorflow) (23.2)\n",
            "Requirement already satisfied: protobuf!=4.21.0,!=4.21.1,!=4.21.2,!=4.21.3,!=4.21.4,!=4.21.5,<5.0.0dev,>=3.20.3 in /usr/local/lib/python3.10/dist-packages (from tensorflow) (3.20.3)\n",
            "Requirement already satisfied: setuptools in /usr/local/lib/python3.10/dist-packages (from tensorflow) (67.7.2)\n",
            "Requirement already satisfied: six>=1.12.0 in /usr/local/lib/python3.10/dist-packages (from tensorflow) (1.16.0)\n",
            "Requirement already satisfied: tensorboard<2.14,>=2.13 in /usr/local/lib/python3.10/dist-packages (from tensorflow) (2.13.0)\n",
            "Requirement already satisfied: tensorflow-estimator<2.14,>=2.13.0 in /usr/local/lib/python3.10/dist-packages (from tensorflow) (2.13.0)\n",
            "Requirement already satisfied: termcolor>=1.1.0 in /usr/local/lib/python3.10/dist-packages (from tensorflow) (2.3.0)\n",
            "Requirement already satisfied: typing-extensions<4.6.0,>=3.6.6 in /usr/local/lib/python3.10/dist-packages (from tensorflow) (4.5.0)\n",
            "Requirement already satisfied: wrapt>=1.11.0 in /usr/local/lib/python3.10/dist-packages (from tensorflow) (1.15.0)\n",
            "Requirement already satisfied: tensorflow-io-gcs-filesystem>=0.23.1 in /usr/local/lib/python3.10/dist-packages (from tensorflow) (0.34.0)\n",
            "Requirement already satisfied: wheel<1.0,>=0.23.0 in /usr/local/lib/python3.10/dist-packages (from astunparse>=1.6.0->tensorflow) (0.41.2)\n",
            "Requirement already satisfied: google-auth<3,>=1.6.3 in /usr/local/lib/python3.10/dist-packages (from tensorboard<2.14,>=2.13->tensorflow) (2.17.3)\n",
            "Requirement already satisfied: google-auth-oauthlib<1.1,>=0.5 in /usr/local/lib/python3.10/dist-packages (from tensorboard<2.14,>=2.13->tensorflow) (1.0.0)\n",
            "Requirement already satisfied: markdown>=2.6.8 in /usr/local/lib/python3.10/dist-packages (from tensorboard<2.14,>=2.13->tensorflow) (3.4.4)\n",
            "Requirement already satisfied: requests<3,>=2.21.0 in /usr/local/lib/python3.10/dist-packages (from tensorboard<2.14,>=2.13->tensorflow) (2.31.0)\n",
            "Requirement already satisfied: tensorboard-data-server<0.8.0,>=0.7.0 in /usr/local/lib/python3.10/dist-packages (from tensorboard<2.14,>=2.13->tensorflow) (0.7.1)\n",
            "Requirement already satisfied: werkzeug>=1.0.1 in /usr/local/lib/python3.10/dist-packages (from tensorboard<2.14,>=2.13->tensorflow) (3.0.0)\n",
            "Requirement already satisfied: cachetools<6.0,>=2.0.0 in /usr/local/lib/python3.10/dist-packages (from google-auth<3,>=1.6.3->tensorboard<2.14,>=2.13->tensorflow) (5.3.1)\n",
            "Requirement already satisfied: pyasn1-modules>=0.2.1 in /usr/local/lib/python3.10/dist-packages (from google-auth<3,>=1.6.3->tensorboard<2.14,>=2.13->tensorflow) (0.3.0)\n",
            "Requirement already satisfied: rsa<5,>=3.1.4 in /usr/local/lib/python3.10/dist-packages (from google-auth<3,>=1.6.3->tensorboard<2.14,>=2.13->tensorflow) (4.9)\n",
            "Requirement already satisfied: requests-oauthlib>=0.7.0 in /usr/local/lib/python3.10/dist-packages (from google-auth-oauthlib<1.1,>=0.5->tensorboard<2.14,>=2.13->tensorflow) (1.3.1)\n",
            "Requirement already satisfied: charset-normalizer<4,>=2 in /usr/local/lib/python3.10/dist-packages (from requests<3,>=2.21.0->tensorboard<2.14,>=2.13->tensorflow) (3.3.0)\n",
            "Requirement already satisfied: idna<4,>=2.5 in /usr/local/lib/python3.10/dist-packages (from requests<3,>=2.21.0->tensorboard<2.14,>=2.13->tensorflow) (3.4)\n",
            "Requirement already satisfied: urllib3<3,>=1.21.1 in /usr/local/lib/python3.10/dist-packages (from requests<3,>=2.21.0->tensorboard<2.14,>=2.13->tensorflow) (2.0.6)\n",
            "Requirement already satisfied: certifi>=2017.4.17 in /usr/local/lib/python3.10/dist-packages (from requests<3,>=2.21.0->tensorboard<2.14,>=2.13->tensorflow) (2023.7.22)\n",
            "Requirement already satisfied: MarkupSafe>=2.1.1 in /usr/local/lib/python3.10/dist-packages (from werkzeug>=1.0.1->tensorboard<2.14,>=2.13->tensorflow) (2.1.3)\n",
            "Requirement already satisfied: pyasn1<0.6.0,>=0.4.6 in /usr/local/lib/python3.10/dist-packages (from pyasn1-modules>=0.2.1->google-auth<3,>=1.6.3->tensorboard<2.14,>=2.13->tensorflow) (0.5.0)\n",
            "Requirement already satisfied: oauthlib>=3.0.0 in /usr/local/lib/python3.10/dist-packages (from requests-oauthlib>=0.7.0->google-auth-oauthlib<1.1,>=0.5->tensorboard<2.14,>=2.13->tensorflow) (3.2.2)\n"
          ]
        }
      ],
      "source": [
        "!pip install tensorflow"
      ]
    },
    {
      "cell_type": "code",
      "source": [
        "import tensorflow as tf\n",
        "import pandas as pd\n",
        "from tensorflow import keras"
      ],
      "metadata": {
        "id": "mHWvTwH4ui56"
      },
      "execution_count": null,
      "outputs": []
    },
    {
      "cell_type": "code",
      "source": [
        "file_url = \"http://storage.googleapis.com/download.tensorflow.org/data/heart.csv\"\n",
        "dataframe = pd.read_csv(file_url)"
      ],
      "metadata": {
        "id": "tsDfvFuEu4cK"
      },
      "execution_count": null,
      "outputs": []
    },
    {
      "cell_type": "code",
      "source": [
        "print(dataframe.shape)"
      ],
      "metadata": {
        "colab": {
          "base_uri": "https://localhost:8080/"
        },
        "id": "aoX8NeL8u-rb",
        "outputId": "9c2468b8-7fc1-4949-ca3b-29448dbac934"
      },
      "execution_count": null,
      "outputs": [
        {
          "output_type": "stream",
          "name": "stdout",
          "text": [
            "(303, 14)\n"
          ]
        }
      ]
    },
    {
      "cell_type": "code",
      "source": [
        "dataframe.head()"
      ],
      "metadata": {
        "colab": {
          "base_uri": "https://localhost:8080/",
          "height": 206
        },
        "id": "a5kVvnLbvSpf",
        "outputId": "aef5addd-57f8-420a-c1bc-cb76fbec83eb"
      },
      "execution_count": null,
      "outputs": [
        {
          "output_type": "execute_result",
          "data": {
            "text/plain": [
              "   age  sex  cp  trestbps  chol  fbs  restecg  thalach  exang  oldpeak  slope  \\\n",
              "0   63    1   1       145   233    1        2      150      0      2.3      3   \n",
              "1   67    1   4       160   286    0        2      108      1      1.5      2   \n",
              "2   67    1   4       120   229    0        2      129      1      2.6      2   \n",
              "3   37    1   3       130   250    0        0      187      0      3.5      3   \n",
              "4   41    0   2       130   204    0        2      172      0      1.4      1   \n",
              "\n",
              "   ca        thal  target  \n",
              "0   0       fixed       0  \n",
              "1   3      normal       1  \n",
              "2   2  reversible       0  \n",
              "3   0      normal       0  \n",
              "4   0      normal       0  "
            ],
            "text/html": [
              "\n",
              "  <div id=\"df-69854b0e-96ad-49a9-ab05-f618b1b573da\" class=\"colab-df-container\">\n",
              "    <div>\n",
              "<style scoped>\n",
              "    .dataframe tbody tr th:only-of-type {\n",
              "        vertical-align: middle;\n",
              "    }\n",
              "\n",
              "    .dataframe tbody tr th {\n",
              "        vertical-align: top;\n",
              "    }\n",
              "\n",
              "    .dataframe thead th {\n",
              "        text-align: right;\n",
              "    }\n",
              "</style>\n",
              "<table border=\"1\" class=\"dataframe\">\n",
              "  <thead>\n",
              "    <tr style=\"text-align: right;\">\n",
              "      <th></th>\n",
              "      <th>age</th>\n",
              "      <th>sex</th>\n",
              "      <th>cp</th>\n",
              "      <th>trestbps</th>\n",
              "      <th>chol</th>\n",
              "      <th>fbs</th>\n",
              "      <th>restecg</th>\n",
              "      <th>thalach</th>\n",
              "      <th>exang</th>\n",
              "      <th>oldpeak</th>\n",
              "      <th>slope</th>\n",
              "      <th>ca</th>\n",
              "      <th>thal</th>\n",
              "      <th>target</th>\n",
              "    </tr>\n",
              "  </thead>\n",
              "  <tbody>\n",
              "    <tr>\n",
              "      <th>0</th>\n",
              "      <td>63</td>\n",
              "      <td>1</td>\n",
              "      <td>1</td>\n",
              "      <td>145</td>\n",
              "      <td>233</td>\n",
              "      <td>1</td>\n",
              "      <td>2</td>\n",
              "      <td>150</td>\n",
              "      <td>0</td>\n",
              "      <td>2.3</td>\n",
              "      <td>3</td>\n",
              "      <td>0</td>\n",
              "      <td>fixed</td>\n",
              "      <td>0</td>\n",
              "    </tr>\n",
              "    <tr>\n",
              "      <th>1</th>\n",
              "      <td>67</td>\n",
              "      <td>1</td>\n",
              "      <td>4</td>\n",
              "      <td>160</td>\n",
              "      <td>286</td>\n",
              "      <td>0</td>\n",
              "      <td>2</td>\n",
              "      <td>108</td>\n",
              "      <td>1</td>\n",
              "      <td>1.5</td>\n",
              "      <td>2</td>\n",
              "      <td>3</td>\n",
              "      <td>normal</td>\n",
              "      <td>1</td>\n",
              "    </tr>\n",
              "    <tr>\n",
              "      <th>2</th>\n",
              "      <td>67</td>\n",
              "      <td>1</td>\n",
              "      <td>4</td>\n",
              "      <td>120</td>\n",
              "      <td>229</td>\n",
              "      <td>0</td>\n",
              "      <td>2</td>\n",
              "      <td>129</td>\n",
              "      <td>1</td>\n",
              "      <td>2.6</td>\n",
              "      <td>2</td>\n",
              "      <td>2</td>\n",
              "      <td>reversible</td>\n",
              "      <td>0</td>\n",
              "    </tr>\n",
              "    <tr>\n",
              "      <th>3</th>\n",
              "      <td>37</td>\n",
              "      <td>1</td>\n",
              "      <td>3</td>\n",
              "      <td>130</td>\n",
              "      <td>250</td>\n",
              "      <td>0</td>\n",
              "      <td>0</td>\n",
              "      <td>187</td>\n",
              "      <td>0</td>\n",
              "      <td>3.5</td>\n",
              "      <td>3</td>\n",
              "      <td>0</td>\n",
              "      <td>normal</td>\n",
              "      <td>0</td>\n",
              "    </tr>\n",
              "    <tr>\n",
              "      <th>4</th>\n",
              "      <td>41</td>\n",
              "      <td>0</td>\n",
              "      <td>2</td>\n",
              "      <td>130</td>\n",
              "      <td>204</td>\n",
              "      <td>0</td>\n",
              "      <td>2</td>\n",
              "      <td>172</td>\n",
              "      <td>0</td>\n",
              "      <td>1.4</td>\n",
              "      <td>1</td>\n",
              "      <td>0</td>\n",
              "      <td>normal</td>\n",
              "      <td>0</td>\n",
              "    </tr>\n",
              "  </tbody>\n",
              "</table>\n",
              "</div>\n",
              "    <div class=\"colab-df-buttons\">\n",
              "\n",
              "  <div class=\"colab-df-container\">\n",
              "    <button class=\"colab-df-convert\" onclick=\"convertToInteractive('df-69854b0e-96ad-49a9-ab05-f618b1b573da')\"\n",
              "            title=\"Convert this dataframe to an interactive table.\"\n",
              "            style=\"display:none;\">\n",
              "\n",
              "  <svg xmlns=\"http://www.w3.org/2000/svg\" height=\"24px\" viewBox=\"0 -960 960 960\">\n",
              "    <path d=\"M120-120v-720h720v720H120Zm60-500h600v-160H180v160Zm220 220h160v-160H400v160Zm0 220h160v-160H400v160ZM180-400h160v-160H180v160Zm440 0h160v-160H620v160ZM180-180h160v-160H180v160Zm440 0h160v-160H620v160Z\"/>\n",
              "  </svg>\n",
              "    </button>\n",
              "\n",
              "  <style>\n",
              "    .colab-df-container {\n",
              "      display:flex;\n",
              "      gap: 12px;\n",
              "    }\n",
              "\n",
              "    .colab-df-convert {\n",
              "      background-color: #E8F0FE;\n",
              "      border: none;\n",
              "      border-radius: 50%;\n",
              "      cursor: pointer;\n",
              "      display: none;\n",
              "      fill: #1967D2;\n",
              "      height: 32px;\n",
              "      padding: 0 0 0 0;\n",
              "      width: 32px;\n",
              "    }\n",
              "\n",
              "    .colab-df-convert:hover {\n",
              "      background-color: #E2EBFA;\n",
              "      box-shadow: 0px 1px 2px rgba(60, 64, 67, 0.3), 0px 1px 3px 1px rgba(60, 64, 67, 0.15);\n",
              "      fill: #174EA6;\n",
              "    }\n",
              "\n",
              "    .colab-df-buttons div {\n",
              "      margin-bottom: 4px;\n",
              "    }\n",
              "\n",
              "    [theme=dark] .colab-df-convert {\n",
              "      background-color: #3B4455;\n",
              "      fill: #D2E3FC;\n",
              "    }\n",
              "\n",
              "    [theme=dark] .colab-df-convert:hover {\n",
              "      background-color: #434B5C;\n",
              "      box-shadow: 0px 1px 3px 1px rgba(0, 0, 0, 0.15);\n",
              "      filter: drop-shadow(0px 1px 2px rgba(0, 0, 0, 0.3));\n",
              "      fill: #FFFFFF;\n",
              "    }\n",
              "  </style>\n",
              "\n",
              "    <script>\n",
              "      const buttonEl =\n",
              "        document.querySelector('#df-69854b0e-96ad-49a9-ab05-f618b1b573da button.colab-df-convert');\n",
              "      buttonEl.style.display =\n",
              "        google.colab.kernel.accessAllowed ? 'block' : 'none';\n",
              "\n",
              "      async function convertToInteractive(key) {\n",
              "        const element = document.querySelector('#df-69854b0e-96ad-49a9-ab05-f618b1b573da');\n",
              "        const dataTable =\n",
              "          await google.colab.kernel.invokeFunction('convertToInteractive',\n",
              "                                                    [key], {});\n",
              "        if (!dataTable) return;\n",
              "\n",
              "        const docLinkHtml = 'Like what you see? Visit the ' +\n",
              "          '<a target=\"_blank\" href=https://colab.research.google.com/notebooks/data_table.ipynb>data table notebook</a>'\n",
              "          + ' to learn more about interactive tables.';\n",
              "        element.innerHTML = '';\n",
              "        dataTable['output_type'] = 'display_data';\n",
              "        await google.colab.output.renderOutput(dataTable, element);\n",
              "        const docLink = document.createElement('div');\n",
              "        docLink.innerHTML = docLinkHtml;\n",
              "        element.appendChild(docLink);\n",
              "      }\n",
              "    </script>\n",
              "  </div>\n",
              "\n",
              "\n",
              "<div id=\"df-cce8ec5e-d366-48e2-95ab-65cf1bf422fe\">\n",
              "  <button class=\"colab-df-quickchart\" onclick=\"quickchart('df-cce8ec5e-d366-48e2-95ab-65cf1bf422fe')\"\n",
              "            title=\"Suggest charts.\"\n",
              "            style=\"display:none;\">\n",
              "\n",
              "<svg xmlns=\"http://www.w3.org/2000/svg\" height=\"24px\"viewBox=\"0 0 24 24\"\n",
              "     width=\"24px\">\n",
              "    <g>\n",
              "        <path d=\"M19 3H5c-1.1 0-2 .9-2 2v14c0 1.1.9 2 2 2h14c1.1 0 2-.9 2-2V5c0-1.1-.9-2-2-2zM9 17H7v-7h2v7zm4 0h-2V7h2v10zm4 0h-2v-4h2v4z\"/>\n",
              "    </g>\n",
              "</svg>\n",
              "  </button>\n",
              "\n",
              "<style>\n",
              "  .colab-df-quickchart {\n",
              "      --bg-color: #E8F0FE;\n",
              "      --fill-color: #1967D2;\n",
              "      --hover-bg-color: #E2EBFA;\n",
              "      --hover-fill-color: #174EA6;\n",
              "      --disabled-fill-color: #AAA;\n",
              "      --disabled-bg-color: #DDD;\n",
              "  }\n",
              "\n",
              "  [theme=dark] .colab-df-quickchart {\n",
              "      --bg-color: #3B4455;\n",
              "      --fill-color: #D2E3FC;\n",
              "      --hover-bg-color: #434B5C;\n",
              "      --hover-fill-color: #FFFFFF;\n",
              "      --disabled-bg-color: #3B4455;\n",
              "      --disabled-fill-color: #666;\n",
              "  }\n",
              "\n",
              "  .colab-df-quickchart {\n",
              "    background-color: var(--bg-color);\n",
              "    border: none;\n",
              "    border-radius: 50%;\n",
              "    cursor: pointer;\n",
              "    display: none;\n",
              "    fill: var(--fill-color);\n",
              "    height: 32px;\n",
              "    padding: 0;\n",
              "    width: 32px;\n",
              "  }\n",
              "\n",
              "  .colab-df-quickchart:hover {\n",
              "    background-color: var(--hover-bg-color);\n",
              "    box-shadow: 0 1px 2px rgba(60, 64, 67, 0.3), 0 1px 3px 1px rgba(60, 64, 67, 0.15);\n",
              "    fill: var(--button-hover-fill-color);\n",
              "  }\n",
              "\n",
              "  .colab-df-quickchart-complete:disabled,\n",
              "  .colab-df-quickchart-complete:disabled:hover {\n",
              "    background-color: var(--disabled-bg-color);\n",
              "    fill: var(--disabled-fill-color);\n",
              "    box-shadow: none;\n",
              "  }\n",
              "\n",
              "  .colab-df-spinner {\n",
              "    border: 2px solid var(--fill-color);\n",
              "    border-color: transparent;\n",
              "    border-bottom-color: var(--fill-color);\n",
              "    animation:\n",
              "      spin 1s steps(1) infinite;\n",
              "  }\n",
              "\n",
              "  @keyframes spin {\n",
              "    0% {\n",
              "      border-color: transparent;\n",
              "      border-bottom-color: var(--fill-color);\n",
              "      border-left-color: var(--fill-color);\n",
              "    }\n",
              "    20% {\n",
              "      border-color: transparent;\n",
              "      border-left-color: var(--fill-color);\n",
              "      border-top-color: var(--fill-color);\n",
              "    }\n",
              "    30% {\n",
              "      border-color: transparent;\n",
              "      border-left-color: var(--fill-color);\n",
              "      border-top-color: var(--fill-color);\n",
              "      border-right-color: var(--fill-color);\n",
              "    }\n",
              "    40% {\n",
              "      border-color: transparent;\n",
              "      border-right-color: var(--fill-color);\n",
              "      border-top-color: var(--fill-color);\n",
              "    }\n",
              "    60% {\n",
              "      border-color: transparent;\n",
              "      border-right-color: var(--fill-color);\n",
              "    }\n",
              "    80% {\n",
              "      border-color: transparent;\n",
              "      border-right-color: var(--fill-color);\n",
              "      border-bottom-color: var(--fill-color);\n",
              "    }\n",
              "    90% {\n",
              "      border-color: transparent;\n",
              "      border-bottom-color: var(--fill-color);\n",
              "    }\n",
              "  }\n",
              "</style>\n",
              "\n",
              "  <script>\n",
              "    async function quickchart(key) {\n",
              "      const quickchartButtonEl =\n",
              "        document.querySelector('#' + key + ' button');\n",
              "      quickchartButtonEl.disabled = true;  // To prevent multiple clicks.\n",
              "      quickchartButtonEl.classList.add('colab-df-spinner');\n",
              "      try {\n",
              "        const charts = await google.colab.kernel.invokeFunction(\n",
              "            'suggestCharts', [key], {});\n",
              "      } catch (error) {\n",
              "        console.error('Error during call to suggestCharts:', error);\n",
              "      }\n",
              "      quickchartButtonEl.classList.remove('colab-df-spinner');\n",
              "      quickchartButtonEl.classList.add('colab-df-quickchart-complete');\n",
              "    }\n",
              "    (() => {\n",
              "      let quickchartButtonEl =\n",
              "        document.querySelector('#df-cce8ec5e-d366-48e2-95ab-65cf1bf422fe button');\n",
              "      quickchartButtonEl.style.display =\n",
              "        google.colab.kernel.accessAllowed ? 'block' : 'none';\n",
              "    })();\n",
              "  </script>\n",
              "</div>\n",
              "    </div>\n",
              "  </div>\n"
            ]
          },
          "metadata": {},
          "execution_count": 5
        }
      ]
    },
    {
      "cell_type": "code",
      "source": [
        "val_dataframe = dataframe.sample(frac=0.2, random_state=1337)\n",
        "train_dataframe = dataframe.drop(val_dataframe.index)\n",
        "\n",
        "print(\n",
        "    \"Using %d samples for training and %d for validation\"\n",
        "    %(len(train_dataframe), len(val_dataframe))\n",
        "    )\n"
      ],
      "metadata": {
        "colab": {
          "base_uri": "https://localhost:8080/"
        },
        "id": "td_-hdqL9hrJ",
        "outputId": "2fae6ee9-616e-433c-9be9-174d19c67adc"
      },
      "execution_count": null,
      "outputs": [
        {
          "output_type": "stream",
          "name": "stdout",
          "text": [
            "Using 242 samples for training and 61 for validation\n"
          ]
        }
      ]
    },
    {
      "cell_type": "code",
      "source": [
        "def dataframe_to_dataset(dataframe):\n",
        "    dataframe = dataframe.copy()\n",
        "    labels = dataframe.pop(\"target\")\n",
        "    ds = tf.data.Dataset.from_tensor_slices((dict(dataframe), labels))\n",
        "    ds = ds.shuffle(buffer_size=len(dataframe))\n",
        "    return ds\n",
        "\n",
        "\n",
        "train_ds = dataframe_to_dataset(train_dataframe)\n",
        "val_ds = dataframe_to_dataset(val_dataframe)"
      ],
      "metadata": {
        "id": "DcwMgr-KAKaW"
      },
      "execution_count": null,
      "outputs": []
    },
    {
      "cell_type": "code",
      "source": [
        "for x, y in train_ds.take(1):\n",
        "    print(\"Input:\", x)\n",
        "    print(\"Target:\", y)"
      ],
      "metadata": {
        "colab": {
          "base_uri": "https://localhost:8080/"
        },
        "id": "aHyTkliMATlm",
        "outputId": "7773dc73-8976-4f0f-b894-916ea47a9c38"
      },
      "execution_count": null,
      "outputs": [
        {
          "output_type": "stream",
          "name": "stdout",
          "text": [
            "Input: {'age': <tf.Tensor: shape=(), dtype=int64, numpy=29>, 'sex': <tf.Tensor: shape=(), dtype=int64, numpy=1>, 'cp': <tf.Tensor: shape=(), dtype=int64, numpy=2>, 'trestbps': <tf.Tensor: shape=(), dtype=int64, numpy=130>, 'chol': <tf.Tensor: shape=(), dtype=int64, numpy=204>, 'fbs': <tf.Tensor: shape=(), dtype=int64, numpy=0>, 'restecg': <tf.Tensor: shape=(), dtype=int64, numpy=2>, 'thalach': <tf.Tensor: shape=(), dtype=int64, numpy=202>, 'exang': <tf.Tensor: shape=(), dtype=int64, numpy=0>, 'oldpeak': <tf.Tensor: shape=(), dtype=float64, numpy=0.0>, 'slope': <tf.Tensor: shape=(), dtype=int64, numpy=1>, 'ca': <tf.Tensor: shape=(), dtype=int64, numpy=0>, 'thal': <tf.Tensor: shape=(), dtype=string, numpy=b'normal'>}\n",
            "Target: tf.Tensor(0, shape=(), dtype=int64)\n"
          ]
        }
      ]
    },
    {
      "cell_type": "code",
      "source": [
        "train_ds = train_ds.batch(32)\n",
        "val_ds = val_ds.batch(32)"
      ],
      "metadata": {
        "id": "P0wO2Oqpa-gc"
      },
      "execution_count": null,
      "outputs": []
    },
    {
      "cell_type": "code",
      "source": [
        "from keras.utils import FeatureSpace\n",
        "\n",
        "feature_space = FeatureSpace(\n",
        "    features={\n",
        "        # Categorical features encoded as integers\n",
        "        \"sex\": \"integer_categorical\",\n",
        "        \"cp\": \"integer_categorical\",\n",
        "        \"fbs\": \"integer_categorical\",\n",
        "        \"restecg\": \"integer_categorical\",\n",
        "        \"exang\": \"integer_categorical\",\n",
        "        \"ca\": \"integer_categorical\",\n",
        "        # Categorical feature encoded as string\n",
        "        \"thal\": \"string_categorical\",\n",
        "        # Numerical features to discretize\n",
        "        \"age\": \"float_discretized\",\n",
        "        # Numerical features to normalize\n",
        "        \"trestbps\": \"float_normalized\",\n",
        "        \"chol\": \"float_normalized\",\n",
        "        \"thalach\": \"float_normalized\",\n",
        "        \"oldpeak\": \"float_normalized\",\n",
        "        \"slope\": \"float_normalized\",\n",
        "    },\n",
        "    # We create additional features by hashing\n",
        "    # value co-occurrences for the\n",
        "    # following groups of categorical features.\n",
        "    crosses=[(\"sex\", \"age\"), (\"thal\", \"ca\")],\n",
        "    # The hashing space for these co-occurrences\n",
        "    # wil be 32-dimensional.\n",
        "    crossing_dim=32,\n",
        "    # Our utility will one-hot encode all categorical\n",
        "    # features and concat all features into a single\n",
        "    # vector (one vector per sample).\n",
        "    output_mode=\"concat\",\n",
        ")\n"
      ],
      "metadata": {
        "id": "nt5HkT3MbPlC"
      },
      "execution_count": null,
      "outputs": []
    },
    {
      "cell_type": "code",
      "source": [
        "feature_space = FeatureSpace(\n",
        "    features={\n",
        "        # Categorical features encoded as integers\n",
        "        \"sex\": FeatureSpace.integer_categorical(num_oov_indices=0),\n",
        "        \"cp\": FeatureSpace.integer_categorical(num_oov_indices=0),\n",
        "        \"fbs\": FeatureSpace.integer_categorical(num_oov_indices=0),\n",
        "        \"restecg\": FeatureSpace.integer_categorical(num_oov_indices=0),\n",
        "        \"exang\": FeatureSpace.integer_categorical(num_oov_indices=0),\n",
        "        \"ca\": FeatureSpace.integer_categorical(num_oov_indices=0),\n",
        "        # Categorical feature encoded as string\n",
        "        \"thal\": FeatureSpace.string_categorical(num_oov_indices=0),\n",
        "        # Numerical features to normalize\n",
        "        \"age\": FeatureSpace.float_discretized(num_bins=30),\n",
        "        # Numerical features to normalize\n",
        "        \"trestbps\": FeatureSpace.float_normalized(),\n",
        "        \"chol\": FeatureSpace.float_normalized(),\n",
        "        \"thalach\": FeatureSpace.float_normalized(),\n",
        "        \"oldpeak\": FeatureSpace.float_normalized(),\n",
        "        \"slope\": FeatureSpace.float_normalized(),\n",
        "    },\n",
        "    # Specify feature cross with a custom crossing dim.\n",
        "    crosses=[\n",
        "        FeatureSpace.cross(feature_names=(\"sex\", \"age\"), crossing_dim=64),\n",
        "        FeatureSpace.cross(\n",
        "            feature_names=(\"thal\", \"ca\"),\n",
        "            crossing_dim=16,\n",
        "        ),\n",
        "    ],\n",
        "    output_mode=\"concat\",\n",
        ")"
      ],
      "metadata": {
        "id": "aC3FglK2bkDP"
      },
      "execution_count": null,
      "outputs": []
    },
    {
      "cell_type": "code",
      "source": [
        "train_ds_with_no_labels = train_ds.map(lambda x, _: x)\n",
        "feature_space.adapt(train_ds_with_no_labels)"
      ],
      "metadata": {
        "id": "-omH-KLIcZ0-"
      },
      "execution_count": null,
      "outputs": []
    },
    {
      "cell_type": "code",
      "source": [
        "for x, _ in train_ds.take(1):\n",
        "    preprocessed_x = feature_space(x)\n",
        "    print(\"preprocessed_x.shape:\", preprocessed_x.shape)\n",
        "    print(\"preprocessed_x.dtype:\", preprocessed_x.dtype)"
      ],
      "metadata": {
        "colab": {
          "base_uri": "https://localhost:8080/"
        },
        "id": "h5jdaGkwcdGm",
        "outputId": "81573f9a-bb8f-43b4-ae63-8af592f2f1b4"
      },
      "execution_count": null,
      "outputs": [
        {
          "output_type": "stream",
          "name": "stdout",
          "text": [
            "preprocessed_x.shape: (32, 138)\n",
            "preprocessed_x.dtype: <dtype: 'float32'>\n"
          ]
        }
      ]
    },
    {
      "cell_type": "code",
      "source": [
        "preprocessed_train_ds = train_ds.map(\n",
        "    lambda x, y: (feature_space(x), y), num_parallel_calls=tf.data.AUTOTUNE\n",
        ")\n",
        "preprocessed_train_ds = preprocessed_train_ds.prefetch(tf.data.AUTOTUNE)\n",
        "\n",
        "preprocessed_val_ds = val_ds.map(\n",
        "    lambda x, y: (feature_space(x), y), num_parallel_calls=tf.data.AUTOTUNE\n",
        ")\n",
        "preprocessed_val_ds = preprocessed_val_ds.prefetch(tf.data.AUTOTUNE)"
      ],
      "metadata": {
        "id": "51F3ZrJSc6-3"
      },
      "execution_count": null,
      "outputs": []
    },
    {
      "cell_type": "code",
      "source": [
        "dict_inputs = feature_space.get_inputs()\n",
        "encoded_features = feature_space.get_encoded_features()\n",
        "\n",
        "x = keras.layers.Dense(32, activation=\"relu\")(encoded_features)\n",
        "x = keras.layers.Dropout(0.5)(x)\n",
        "predictions = keras.layers.Dense(1, activation=\"sigmoid\")(x)\n",
        "\n",
        "training_model = keras.Model(inputs=encoded_features, outputs=predictions)\n",
        "training_model.compile(\n",
        "    optimizer=\"adam\", loss=\"binary_crossentropy\", metrics=[\"accuracy\"]\n",
        ")\n",
        "\n",
        "inference_model = keras.Model(inputs=dict_inputs, outputs=predictions)"
      ],
      "metadata": {
        "id": "OP7_0VYed9u0"
      },
      "execution_count": null,
      "outputs": []
    },
    {
      "cell_type": "code",
      "source": [
        "training_model.fit(\n",
        "    preprocessed_train_ds, epochs=20, validation_data=preprocessed_val_ds, verbose=2\n",
        ")"
      ],
      "metadata": {
        "colab": {
          "base_uri": "https://localhost:8080/"
        },
        "id": "Z6A1nbyyeVuP",
        "outputId": "1a68c94d-2b98-4414-c5b1-8668f8ead59e"
      },
      "execution_count": null,
      "outputs": [
        {
          "output_type": "stream",
          "name": "stdout",
          "text": [
            "Epoch 1/20\n",
            "8/8 - 1s - loss: 0.6604 - accuracy: 0.6405 - val_loss: 0.5970 - val_accuracy: 0.7705 - 1s/epoch - 138ms/step\n",
            "Epoch 2/20\n",
            "8/8 - 0s - loss: 0.5908 - accuracy: 0.7231 - val_loss: 0.5529 - val_accuracy: 0.7705 - 307ms/epoch - 38ms/step\n",
            "Epoch 3/20\n",
            "8/8 - 0s - loss: 0.5535 - accuracy: 0.7645 - val_loss: 0.5161 - val_accuracy: 0.7869 - 297ms/epoch - 37ms/step\n",
            "Epoch 4/20\n",
            "8/8 - 0s - loss: 0.5345 - accuracy: 0.7810 - val_loss: 0.4870 - val_accuracy: 0.8033 - 227ms/epoch - 28ms/step\n",
            "Epoch 5/20\n",
            "8/8 - 0s - loss: 0.4978 - accuracy: 0.7727 - val_loss: 0.4632 - val_accuracy: 0.8033 - 193ms/epoch - 24ms/step\n",
            "Epoch 6/20\n",
            "8/8 - 0s - loss: 0.4653 - accuracy: 0.7851 - val_loss: 0.4437 - val_accuracy: 0.8033 - 202ms/epoch - 25ms/step\n",
            "Epoch 7/20\n",
            "8/8 - 0s - loss: 0.4406 - accuracy: 0.8140 - val_loss: 0.4267 - val_accuracy: 0.8033 - 191ms/epoch - 24ms/step\n",
            "Epoch 8/20\n",
            "8/8 - 0s - loss: 0.4220 - accuracy: 0.8430 - val_loss: 0.4137 - val_accuracy: 0.8033 - 204ms/epoch - 26ms/step\n",
            "Epoch 9/20\n",
            "8/8 - 0s - loss: 0.4221 - accuracy: 0.8264 - val_loss: 0.4039 - val_accuracy: 0.8033 - 189ms/epoch - 24ms/step\n",
            "Epoch 10/20\n",
            "8/8 - 0s - loss: 0.3929 - accuracy: 0.8388 - val_loss: 0.3965 - val_accuracy: 0.8197 - 207ms/epoch - 26ms/step\n",
            "Epoch 11/20\n",
            "8/8 - 0s - loss: 0.3686 - accuracy: 0.8430 - val_loss: 0.3919 - val_accuracy: 0.8197 - 185ms/epoch - 23ms/step\n",
            "Epoch 12/20\n",
            "8/8 - 0s - loss: 0.3663 - accuracy: 0.8471 - val_loss: 0.3873 - val_accuracy: 0.8033 - 355ms/epoch - 44ms/step\n",
            "Epoch 13/20\n",
            "8/8 - 0s - loss: 0.3657 - accuracy: 0.8802 - val_loss: 0.3840 - val_accuracy: 0.8033 - 343ms/epoch - 43ms/step\n",
            "Epoch 14/20\n",
            "8/8 - 0s - loss: 0.3547 - accuracy: 0.8636 - val_loss: 0.3809 - val_accuracy: 0.8033 - 373ms/epoch - 47ms/step\n",
            "Epoch 15/20\n",
            "8/8 - 0s - loss: 0.3358 - accuracy: 0.8760 - val_loss: 0.3791 - val_accuracy: 0.8033 - 350ms/epoch - 44ms/step\n",
            "Epoch 16/20\n",
            "8/8 - 0s - loss: 0.3270 - accuracy: 0.8636 - val_loss: 0.3783 - val_accuracy: 0.8033 - 378ms/epoch - 47ms/step\n",
            "Epoch 17/20\n",
            "8/8 - 0s - loss: 0.3198 - accuracy: 0.8926 - val_loss: 0.3805 - val_accuracy: 0.8033 - 369ms/epoch - 46ms/step\n",
            "Epoch 18/20\n",
            "8/8 - 0s - loss: 0.3151 - accuracy: 0.8760 - val_loss: 0.3809 - val_accuracy: 0.7869 - 457ms/epoch - 57ms/step\n",
            "Epoch 19/20\n",
            "8/8 - 0s - loss: 0.3072 - accuracy: 0.8760 - val_loss: 0.3821 - val_accuracy: 0.7869 - 390ms/epoch - 49ms/step\n",
            "Epoch 20/20\n",
            "8/8 - 0s - loss: 0.2734 - accuracy: 0.9008 - val_loss: 0.3833 - val_accuracy: 0.8033 - 391ms/epoch - 49ms/step\n"
          ]
        },
        {
          "output_type": "execute_result",
          "data": {
            "text/plain": [
              "<keras.src.callbacks.History at 0x7d9fc4326a70>"
            ]
          },
          "metadata": {},
          "execution_count": 16
        }
      ]
    },
    {
      "cell_type": "code",
      "source": [
        "sample = {\n",
        "    \"age\": 60,\n",
        "    \"sex\": 1,\n",
        "    \"cp\": 1,\n",
        "    \"trestbps\": 145,\n",
        "    \"chol\": 233,\n",
        "    \"fbs\": 1,\n",
        "    \"restecg\": 2,\n",
        "    \"thalach\": 150,\n",
        "    \"exang\": 0,\n",
        "    \"oldpeak\": 2.3,\n",
        "    \"slope\": 3,\n",
        "    \"ca\": 0,\n",
        "    \"thal\": \"fixed\",\n",
        "}\n",
        "\n",
        "input_dict = {name: tf.convert_to_tensor([value]) for name, value in sample.items()}\n",
        "predictions = inference_model.predict(input_dict)\n",
        "\n",
        "print(\n",
        "    f\"This particular patient had a {100 * predictions[0][0]:.2f}% probability \"\n",
        "    \"of having a heart disease, as evaluated by our model.\"\n",
        ")"
      ],
      "metadata": {
        "colab": {
          "base_uri": "https://localhost:8080/"
        },
        "id": "CGlh7tQWegtR",
        "outputId": "12dbbdda-644c-4f3f-98d4-5db586dc9ea1"
      },
      "execution_count": null,
      "outputs": [
        {
          "output_type": "stream",
          "name": "stdout",
          "text": [
            "1/1 [==============================] - 1s 601ms/step\n",
            "This particular patient had a 54.70% probability of having a heart disease, as evaluated by our model.\n"
          ]
        }
      ]
    },
    {
      "cell_type": "code",
      "source": [
        "patients = [\n",
        "    {\"age\": 60, \"sex\": 1, \"cp\": 1, \"trestbps\": 145, \"chol\": 233, \"fbs\": 1, \"restecg\": 2, \"thalach\": 150, \"exang\": 0, \"oldpeak\": 2.3, \"slope\": 3, \"ca\": 0, \"thal\": \"fixed\"},\n",
        "    {\"age\": 67, \"sex\": 1, \"cp\": 4, \"trestbps\": 160, \"chol\": 286, \"fbs\": 0, \"restecg\": 2, \"thalach\": 108, \"exang\": 1.5, \"oldpeak\": 2.3, \"slope\": 2, \"ca\": 3, \"thal\": \"normal\"},\n",
        "     {\"age\": 67, \"sex\": 1, \"cp\": 4, \"trestbps\": 120, \"chol\": 229, \"fbs\": 0, \"restecg\": 2, \"thalach\": 129, \"exang\": 1, \"oldpeak\": 2.6, \"slope\": 2, \"ca\": 2, \"thal\": \"reversible\"}\n",
        "    # Add more patient feature dictionaries as needed\n",
        "]\n"
      ],
      "metadata": {
        "id": "RkLEq5LxMLEl"
      },
      "execution_count": null,
      "outputs": []
    },
    {
      "cell_type": "code",
      "source": [
        "# Create a dictionary where each key corresponds to a feature name\n",
        "# and the values are lists of feature values for all patients\n",
        "input_dict = {}\n",
        "for name in patients[0].keys():\n",
        "    input_dict[name] = [patient[name] for patient in patients]\n",
        "\n",
        "# Convert the feature values to TensorFlow tensors\n",
        "input_tensors = {name: tf.convert_to_tensor(values) for name, values in input_dict.items()}\n",
        "\n",
        "# Make predictions for all patients\n",
        "predictions = inference_model.predict(input_tensors)\n",
        "\n",
        "# Print the probabilities for each patient\n",
        "for i, patient in enumerate(patients):\n",
        "    probability = 100 * predictions[i][0]\n",
        "    print(f\"Patient {i + 1}: Probability of having heart disease: {probability:.2f}%\")\n"
      ],
      "metadata": {
        "colab": {
          "base_uri": "https://localhost:8080/"
        },
        "id": "7lt1lOzBPPLF",
        "outputId": "e23226ab-e87d-4772-d2e6-0118a608d0db"
      },
      "execution_count": null,
      "outputs": [
        {
          "output_type": "stream",
          "name": "stdout",
          "text": [
            "1/1 [==============================] - 1s 761ms/step\n",
            "Patient 1: Probability of having heart disease: 54.70%\n",
            "Patient 2: Probability of having heart disease: 73.42%\n",
            "Patient 3: Probability of having heart disease: 89.78%\n"
          ]
        }
      ]
    }
  ]
}